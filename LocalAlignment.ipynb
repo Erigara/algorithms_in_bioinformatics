{
 "cells": [
  {
   "cell_type": "code",
   "execution_count": 1,
   "metadata": {},
   "outputs": [],
   "source": [
    "from array import array\n",
    "from collections import deque\n",
    "import numpy as np"
   ]
  },
  {
   "cell_type": "code",
   "execution_count": 2,
   "metadata": {},
   "outputs": [],
   "source": [
    "# вспомогательная функция для преобразования двумерного индекса к одномурному.\n",
    "def index2d_to_1d(i, j, m):\n",
    "    return m * i + j"
   ]
  },
  {
   "cell_type": "markdown",
   "metadata": {},
   "source": [
    "# Локальное выравнивание"
   ]
  },
  {
   "cell_type": "code",
   "execution_count": 29,
   "metadata": {},
   "outputs": [],
   "source": [
    "def local_alignment_weights(s, t, match_weight, mismatch_weight, gap_weight, gap='_'):\n",
    "    n = len(s)\n",
    "    m = len(t)\n",
    "    \n",
    "    max_weight = None\n",
    "    max_i, max_j = None, None\n",
    "    \n",
    "    C = array('h', [0]) * ((n + 1) * (m + 1))\n",
    "    \n",
    "    i = 1\n",
    "    while i <= n:\n",
    "        j = 1\n",
    "        while j <= m:\n",
    "            weight = max(\n",
    "                0, # free ride\n",
    "                C[index2d_to_1d(i - 1, j - 1, m + 1)] + (match_weight if s[i - 1] == t[j - 1] else mismatch_weight),\n",
    "                C[index2d_to_1d(i, j - 1, m + 1)] + gap_weight,\n",
    "                C[index2d_to_1d(i - 1, j, m + 1)] + gap_weight,\n",
    "            )\n",
    "            \n",
    "            C[index2d_to_1d(i, j, m + 1)] = weight\n",
    "            \n",
    "            if max_weight is None or max_weight < weight:\n",
    "                max_weight = weight\n",
    "                max_i, max_j = i, j\n",
    "\n",
    "            j += 1\n",
    "        i += 1\n",
    "    return C, max_i, max_j\n",
    "\n",
    "def local_alignment(s, t, match_weight, mismatch_weight, gap_weight, gap='_'):\n",
    "    m = len(s)\n",
    "    n = len(t)\n",
    "    \n",
    "    C, i_end, j_end = local_alignment_weights(s, t, match_weight, mismatch_weight, gap_weight, gap)\n",
    "    #print(max_i, max_j, weight)\n",
    "    #print(np.array(C).reshape(m + 1, n + 1))\n",
    "    \n",
    "    s_a, t_a = deque(), deque()\n",
    "    \n",
    "    i, j = i_end, j_end\n",
    "        \n",
    "    while i > 0 and j > 0 and C[index2d_to_1d(i, j, n + 1)] > 0:\n",
    "        if C[index2d_to_1d(i, j, n + 1)] == C[index2d_to_1d(i - 1, j - 1, n + 1)] + (match_weight if s[i - 1] == t[j - 1] else mismatch_weight):\n",
    "            s_a.appendleft(s[i - 1])\n",
    "            t_a.appendleft(t[j - 1])\n",
    "            i -= 1\n",
    "            j -= 1\n",
    "        elif C[index2d_to_1d(i, j - 1, n + 1)] > C[index2d_to_1d(i - 1, j, n + 1)]:\n",
    "            s_a.appendleft(gap)\n",
    "            t_a.appendleft(t[j - 1])\n",
    "            j -= 1\n",
    "        else:\n",
    "            s_a.appendleft(s[i - 1])\n",
    "            t_a.appendleft(gap)\n",
    "            i -= 1\n",
    "    \n",
    "    i_start, j_start = i, j\n",
    "    s_a.appendleft('(')\n",
    "    t_a.appendleft('(')\n",
    "    while i > 0 or j > 0:\n",
    "        if i > 0:\n",
    "            s_a.appendleft(s[i - 1])\n",
    "            i -= 1\n",
    "        else:\n",
    "            s_a.appendleft(gap)\n",
    "        if j > 0:\n",
    "            t_a.appendleft(t[j - 1])\n",
    "            j -= 1\n",
    "        else:\n",
    "            t_a.appendleft(gap)\n",
    "    \n",
    "    i, j = i_end + 1, j_end + 1\n",
    "    s_a.append(')')\n",
    "    t_a.append(')')\n",
    "    while i <= m or j <= n:\n",
    "        if i <= m:\n",
    "            s_a.append(s[i - 1])\n",
    "            i += 1\n",
    "        else:\n",
    "            s_a.append(gap)\n",
    "        if j <= n:\n",
    "            t_a.append(t[j - 1])\n",
    "            j += 1\n",
    "        else:\n",
    "            t_a.append(gap)\n",
    "        \n",
    "    \n",
    "    return ''.join(s_a), ''.join(t_a)"
   ]
  },
  {
   "cell_type": "markdown",
   "metadata": {},
   "source": [
    "# Глобальное выравнивание"
   ]
  },
  {
   "cell_type": "code",
   "execution_count": 30,
   "metadata": {},
   "outputs": [],
   "source": [
    "def alignment_weights(s, t, match_weight, mismatch_weight, gap_weight, gap='_'):\n",
    "    n = len(s)\n",
    "    m = len(t)\n",
    "    \n",
    "    C = array('h', [0]) * ((n + 1) * (m + 1))\n",
    "\n",
    "    for j in range(m + 1):\n",
    "        C[index2d_to_1d(0, j, m + 1)] += j * gap_weight\n",
    "    for i in range(n + 1):\n",
    "        C[index2d_to_1d(i, 0, m + 1)] += i * gap_weight\n",
    "        \n",
    "    i = 1\n",
    "    while i <= n:\n",
    "        j = 1\n",
    "        while j <= m:\n",
    "            C[index2d_to_1d(i, j, m + 1)] = max(\n",
    "                C[index2d_to_1d(i - 1, j - 1, m + 1)] + (match_weight if s[i - 1] == t[j - 1] else mismatch_weight),\n",
    "                C[index2d_to_1d(i, j - 1, m + 1)] + gap_weight,\n",
    "                C[index2d_to_1d(i - 1, j, m + 1)] + gap_weight,\n",
    "            )\n",
    "            j += 1\n",
    "        i += 1\n",
    "    return C\n",
    "\n",
    "def alignment(s, t, match_weight, mismatch_weight, gap_weight, gap='_'):\n",
    "    m = len(s)\n",
    "    n = len(t)\n",
    "    \n",
    "    C = alignment_weights(s, t, match_weight, mismatch_weight, gap_weight, gap)\n",
    "    \n",
    "    s_a, t_a = deque(), deque()\n",
    "    i, j = m, n\n",
    "    while i > 0 and j > 0:\n",
    "        if C[index2d_to_1d(i, j, n + 1)] == C[index2d_to_1d(i - 1, j - 1, n + 1)] + (match_weight if s[i - 1] == t[j - 1] else mismatch_weight):\n",
    "            s_a.appendleft(s[i - 1])\n",
    "            t_a.appendleft(t[j - 1])\n",
    "            i -= 1\n",
    "            j -= 1\n",
    "        elif C[index2d_to_1d(i, j - 1, n + 1)] > C[index2d_to_1d(i - 1, j, n + 1)]:\n",
    "            s_a.appendleft(gap)\n",
    "            t_a.appendleft(t[j - 1])\n",
    "            j -= 1\n",
    "        else:\n",
    "            s_a.appendleft(s[i - 1])\n",
    "            t_a.appendleft(gap)\n",
    "            i -= 1\n",
    "    \n",
    "    return ''.join(s_a), ''.join(t_a)"
   ]
  },
  {
   "cell_type": "markdown",
   "metadata": {},
   "source": [
    "# Сравнение выравниваний"
   ]
  },
  {
   "cell_type": "markdown",
   "metadata": {},
   "source": [
    "## Пример 1"
   ]
  },
  {
   "cell_type": "code",
   "execution_count": 31,
   "metadata": {},
   "outputs": [
    {
     "name": "stdout",
     "output_type": "stream",
     "text": [
      "___(act)gag\n",
      "gct(act)___\n"
     ]
    }
   ],
   "source": [
    "for line in local_alignment('actgag', 'gctact', 1, -1, -1):\n",
    "    print(line)"
   ]
  },
  {
   "cell_type": "code",
   "execution_count": 32,
   "metadata": {},
   "outputs": [
    {
     "name": "stdout",
     "output_type": "stream",
     "text": [
      "actga_g\n",
      "gct_act\n"
     ]
    }
   ],
   "source": [
    "for line in alignment('actgag', 'gctact', 1, -1, -1):\n",
    "    print(line)"
   ]
  },
  {
   "cell_type": "markdown",
   "metadata": {},
   "source": [
    "## Пример 2\n",
    "\n",
    "Создадим две строки с большим совпадающим участком в центре и различающиеся по краям."
   ]
  },
  {
   "cell_type": "code",
   "execution_count": 33,
   "metadata": {},
   "outputs": [],
   "source": [
    "import random\n",
    "random.seed(0)\n",
    "\n",
    "common_subseq = 'BIOINFORMATICS'\n",
    "population = 'QWERTYUIOPASDFGHJKLZXCVBNM'\n",
    "\n",
    "seq1 = ''.join([*random.choices(population, k=20), common_subseq, *random.choices(population, k=12)])\n",
    "seq2 = ''.join([*random.choices(population, k=6), common_subseq, *random.choices(population, k=30)])"
   ]
  },
  {
   "cell_type": "code",
   "execution_count": 34,
   "metadata": {},
   "outputs": [
    {
     "data": {
      "text/plain": [
       "'CZAUFAXIDHBFIZJUBMCBBIOINFORMATICSOLBKDESHBMDV'"
      ]
     },
     "execution_count": 34,
     "metadata": {},
     "output_type": "execute_result"
    }
   ],
   "source": [
    "seq1"
   ]
  },
  {
   "cell_type": "code",
   "execution_count": 35,
   "metadata": {},
   "outputs": [
    {
     "data": {
      "text/plain": [
       "'UXGQLABIOINFORMATICSCKQDVUOVTGUMXSEOFNEGLGCGMHHSHA'"
      ]
     },
     "execution_count": 35,
     "metadata": {},
     "output_type": "execute_result"
    }
   ],
   "source": [
    "seq2"
   ]
  },
  {
   "cell_type": "code",
   "execution_count": 48,
   "metadata": {},
   "outputs": [
    {
     "name": "stdout",
     "output_type": "stream",
     "text": [
      "CZAUFAXIDHBFIZJUBMCB(BIOINFORMATICS)OLBKDESHBMDV__________________\n",
      "______________UXGQLA(BIOINFORMATICS)CKQDVUOVTGUMXSEOFNEGLGCGMHHSHA\n"
     ]
    }
   ],
   "source": [
    "for line in local_alignment(seq1, seq2, 1, -1, -2):\n",
    "    print(line)"
   ]
  },
  {
   "cell_type": "code",
   "execution_count": 49,
   "metadata": {
    "scrolled": true
   },
   "outputs": [
    {
     "name": "stdout",
     "output_type": "stream",
     "text": [
      "CZAUFAXIDHBFIZJUBMCBBIOINFORMATICS_O___LBKDESHBMDV\n",
      "UXGQLABIOINFORMATICSCKQDVUOVTGUMXSEOFNEGLGCGMHHSHA\n"
     ]
    }
   ],
   "source": [
    "for line in alignment(seq1, seq2, 1, -1, -2):\n",
    "    print(line)"
   ]
  },
  {
   "cell_type": "markdown",
   "metadata": {},
   "source": [
    "## Пример 3\n",
    "\n",
    "Попробуем сравнить выравнивания на случайных строках."
   ]
  },
  {
   "cell_type": "code",
   "execution_count": 50,
   "metadata": {},
   "outputs": [],
   "source": [
    "random.seed(0)\n",
    "\n",
    "population = 'ACTG'\n",
    "\n",
    "seq1 = random.choices(population, k=60)\n",
    "seq2 = random.choices(population, k=80)"
   ]
  },
  {
   "cell_type": "code",
   "execution_count": 51,
   "metadata": {},
   "outputs": [
    {
     "name": "stdout",
     "output_type": "stream",
     "text": [
      "____________________(GGCCTCGCCTGTCGTCGGG_GCTG_TCACTGGCGCGTATCG_TA____CGACGATAGG_CAC)TGATTT\n",
      "GTGTTCTCTCAATTCAGGGG(GGTCTCGGGTGTC_T_GGGATCTGAT_A__AGCGAATAT_GTTATTTCCGAAGAAAGGACAC)ATCA__\n"
     ]
    }
   ],
   "source": [
    "for line in local_alignment(seq1, seq2, 1, -1, -1):\n",
    "    print(line)"
   ]
  },
  {
   "cell_type": "code",
   "execution_count": 52,
   "metadata": {},
   "outputs": [
    {
     "name": "stdout",
     "output_type": "stream",
     "text": [
      "G_G____C_C___TC__GCCTGTCGTCGGG_G_CTGTCA_CTG____GCGCGTATCG_TA____CGACGATAGG_CACTGATTT\n",
      "GTGTTCTCTCAATTCAGGGGGGTC_TCGGGTGTCTGGGATCTGATAAGCGAATAT_GTTATTTCCGAAGAAAGGACAC__ATCA\n"
     ]
    }
   ],
   "source": [
    "for line in alignment(seq1, seq2, 1, -1, -1):\n",
    "    print(line)"
   ]
  },
  {
   "cell_type": "code",
   "execution_count": null,
   "metadata": {},
   "outputs": [],
   "source": []
  }
 ],
 "metadata": {
  "kernelspec": {
   "display_name": "Python 3",
   "language": "python",
   "name": "python3"
  },
  "language_info": {
   "codemirror_mode": {
    "name": "ipython",
    "version": 3
   },
   "file_extension": ".py",
   "mimetype": "text/x-python",
   "name": "python",
   "nbconvert_exporter": "python",
   "pygments_lexer": "ipython3",
   "version": "3.8.5"
  }
 },
 "nbformat": 4,
 "nbformat_minor": 4
}
