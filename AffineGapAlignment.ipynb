{
 "cells": [
  {
   "cell_type": "code",
   "execution_count": 1,
   "metadata": {},
   "outputs": [],
   "source": [
    "from array import array\n",
    "from collections import deque\n",
    "import numpy as np"
   ]
  },
  {
   "cell_type": "code",
   "execution_count": 2,
   "metadata": {},
   "outputs": [],
   "source": [
    "# вспомогательная функция для преобразования двумерного индекса к одномурному.\n",
    "def index2d_to_1d(i, j, m):\n",
    "    return m * i + j"
   ]
  },
  {
   "cell_type": "markdown",
   "metadata": {},
   "source": [
    "# Выравнивание с афинными штрафами"
   ]
  },
  {
   "cell_type": "code",
   "execution_count": 3,
   "metadata": {},
   "outputs": [],
   "source": [
    "def alignment_weights(s, t, match_weight, mismatch_weight, gap_weight, open_gap_weight, gap='_'):\n",
    "    n = len(s)\n",
    "    m = len(t)\n",
    "    \n",
    "    vtable = array('h', [0]) * ((n + 1) * (m + 1))\n",
    "    htable = array('h', [0]) * ((n + 1) * (m + 1))\n",
    "    dtable = array('h', [0]) * ((n + 1) * (m + 1))\n",
    "    \n",
    "    for i in range(n + 1):\n",
    "        vtable[index2d_to_1d(i, 0, m + 1)] += i * gap_weight + open_gap_weight\n",
    "        \n",
    "    for j in range(m + 1):\n",
    "        htable[index2d_to_1d(0, j, m + 1)] += j * gap_weight + open_gap_weight\n",
    "\n",
    "    i = 1\n",
    "    while i <= n:\n",
    "        j = 1\n",
    "        while j <= m:\n",
    "            vtable[index2d_to_1d(i, j, m + 1)] = max(\n",
    "                vtable[index2d_to_1d(i - 1, j, m + 1)] + gap_weight,\n",
    "                dtable[index2d_to_1d(i - 1, j, m + 1)] + gap_weight + open_gap_weight,\n",
    "            )\n",
    "                \n",
    "            htable[index2d_to_1d(i, j, m + 1)] = max(\n",
    "                htable[index2d_to_1d(i, j - 1, m + 1)] + gap_weight,\n",
    "                dtable[index2d_to_1d(i, j - 1, m + 1)] + gap_weight + open_gap_weight,\n",
    "            )\n",
    "            \n",
    "            dtable[index2d_to_1d(i, j, m + 1)] = max(\n",
    "                dtable[index2d_to_1d(i - 1, j - 1, m + 1)] + (match_weight if s[i - 1] == t[j - 1] else mismatch_weight),\n",
    "                vtable[index2d_to_1d(i, j, m + 1)],\n",
    "                htable[index2d_to_1d(i, j, m + 1)],\n",
    "            )\n",
    "\n",
    "            j += 1\n",
    "        i += 1\n",
    "    return vtable, htable, dtable\n",
    "\n",
    "def alignment(s, t, match_weight, mismatch_weight, gap_weight, open_gap_weight, gap='_'):\n",
    "    n = len(s)\n",
    "    m = len(t)\n",
    "    \n",
    "    vtable, htable, dtable = alignment_weights(s, t, \n",
    "                                               match_weight, \n",
    "                                               mismatch_weight, \n",
    "                                               gap_weight, \n",
    "                                               open_gap_weight, \n",
    "                                               gap)\n",
    "    \n",
    "    s_a, t_a = deque(), deque()\n",
    "    \n",
    "    i, j = n, m\n",
    "    current_table = 'dtable'\n",
    "    while i > 0 and j > 0:\n",
    "        if current_table == 'vtable':\n",
    "            s_a.appendleft(s[i - 1])\n",
    "            t_a.appendleft(gap)\n",
    "            i -= 1\n",
    "            \n",
    "            if vtable[index2d_to_1d(i, j, m + 1)] < dtable[index2d_to_1d(i, j, m + 1)] + open_gap_weight:\n",
    "                current_table = 'dtable'\n",
    "                \n",
    "        elif current_table == 'htable':\n",
    "            s_a.appendleft(gap)\n",
    "            t_a.appendleft(t[j - 1])\n",
    "            j -= 1\n",
    "            \n",
    "            if htable[index2d_to_1d(i, j, m + 1)] < dtable[index2d_to_1d(i, j, m + 1)] + open_gap_weight:\n",
    "                current_table = 'dtable'\n",
    "        else:\n",
    "            prev_dtable = dtable[index2d_to_1d(i - 1, j - 1, m + 1)] + (match_weight if s[i - 1] == t[j - 1] else mismatch_weight)\n",
    "            prev_htable = htable[index2d_to_1d(i, j, m + 1)]\n",
    "            prev_vtable = vtable[index2d_to_1d(i, j, m + 1)]\n",
    "            \n",
    "            if prev_dtable >= max(prev_htable, prev_vtable):\n",
    "                s_a.appendleft(s[i - 1])\n",
    "                t_a.appendleft(t[j - 1])\n",
    "                i -= 1\n",
    "                j -= 1\n",
    "            elif prev_vtable >= prev_htable:\n",
    "                current_table = 'vtable'\n",
    "            else:\n",
    "                current_table = 'htable'\n",
    "        \n",
    "    while i > 0:\n",
    "        s_a.appendleft(s[i - 1])\n",
    "        t_a.appendleft(gap)\n",
    "        i -= 1\n",
    "            \n",
    "    while j > 0:\n",
    "        s_a.appendleft(gap)\n",
    "        t_a.appendleft(t[j - 1])\n",
    "        j -= 1\n",
    "        \n",
    "    \n",
    "    return ''.join(s_a), ''.join(t_a)"
   ]
  },
  {
   "cell_type": "markdown",
   "metadata": {},
   "source": [
    "## Пример\n",
    "\n",
    "Создадим две последовательности с большим совпадающим участком в центре, но различающиеся по краям.\n",
    "\n",
    "В первом случае штраф за открытие гэпа будет равен -1, а во втором -2."
   ]
  },
  {
   "cell_type": "code",
   "execution_count": 4,
   "metadata": {},
   "outputs": [],
   "source": [
    "import random\n",
    "random.seed(0)\n",
    "\n",
    "common_subseq = 'BIOINFORMATICS'\n",
    "population = 'QWERTYUIOPASDFGHJKLZXCVBNM'\n",
    "\n",
    "seq1 = ''.join([*random.choices(population, k=20), common_subseq, *random.choices(population, k=12)])\n",
    "seq2 = ''.join([*random.choices(population, k=6), common_subseq, *random.choices(population, k=30)])"
   ]
  },
  {
   "cell_type": "code",
   "execution_count": 5,
   "metadata": {},
   "outputs": [
    {
     "data": {
      "text/plain": [
       "'CZAUFAXIDHBFIZJUBMCBBIOINFORMATICSOLBKDESHBMDV'"
      ]
     },
     "execution_count": 5,
     "metadata": {},
     "output_type": "execute_result"
    }
   ],
   "source": [
    "seq1"
   ]
  },
  {
   "cell_type": "code",
   "execution_count": 6,
   "metadata": {},
   "outputs": [
    {
     "data": {
      "text/plain": [
       "'UXGQLABIOINFORMATICSCKQDVUOVTGUMXSEOFNEGLGCGMHHSHA'"
      ]
     },
     "execution_count": 6,
     "metadata": {},
     "output_type": "execute_result"
    }
   ],
   "source": [
    "seq2"
   ]
  },
  {
   "cell_type": "code",
   "execution_count": 7,
   "metadata": {},
   "outputs": [
    {
     "name": "stdout",
     "output_type": "stream",
     "text": [
      "CZAUFAXIDHBFIZJU_BMCBBIOINFORMATICS______O___LBKDE_________SHBMDV\n",
      "_______________UXGQLABIOINFORMATICSCKQDVUOVTGUMXSEOFNEGLGCGMHHSHA\n"
     ]
    }
   ],
   "source": [
    "for line in alignment(seq1, seq2, 1, -1, -1, -1):\n",
    "    print(line)"
   ]
  },
  {
   "cell_type": "code",
   "execution_count": 8,
   "metadata": {},
   "outputs": [
    {
     "name": "stdout",
     "output_type": "stream",
     "text": [
      "CZAUFAXIDHBFIZJUBMCBBIOINFORMATICS__________________OLBKDESHBMDV\n",
      "______________UXGQLABIOINFORMATICSCKQDVUOVTGUMXSEOFNEGLGCGMHHSHA\n"
     ]
    }
   ],
   "source": [
    "for line in alignment(seq1, seq2, 1, -1, -1, -2):\n",
    "    print(line)"
   ]
  }
 ],
 "metadata": {
  "kernelspec": {
   "display_name": "Python 3",
   "language": "python",
   "name": "python3"
  },
  "language_info": {
   "codemirror_mode": {
    "name": "ipython",
    "version": 3
   },
   "file_extension": ".py",
   "mimetype": "text/x-python",
   "name": "python",
   "nbconvert_exporter": "python",
   "pygments_lexer": "ipython3",
   "version": "3.8.5"
  }
 },
 "nbformat": 4,
 "nbformat_minor": 4
}
