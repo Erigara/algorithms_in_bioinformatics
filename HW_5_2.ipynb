{
 "cells": [
  {
   "cell_type": "code",
   "execution_count": 1,
   "metadata": {},
   "outputs": [],
   "source": [
    "import numpy as np"
   ]
  },
  {
   "cell_type": "code",
   "execution_count": 2,
   "metadata": {},
   "outputs": [],
   "source": [
    "def min_dist(dist_matrix):\n",
    "    n, m = dist_matrix.shape\n",
    "    min_dist = None\n",
    "    min_i = 0\n",
    "    min_j = 0\n",
    "    for i in range(n):\n",
    "        for j in range(i + 1, m):\n",
    "            dist = dist_matrix[i, j]\n",
    "            if dist != 0 and (min_dist is None or dist <= min_dist):\n",
    "                min_dist = dist\n",
    "                min_i = i\n",
    "                min_j = j\n",
    "    return min_i, min_j"
   ]
  },
  {
   "cell_type": "code",
   "execution_count": 3,
   "metadata": {},
   "outputs": [],
   "source": [
    "def tree_dist(dist_matrix, i, j, n):\n",
    "    di = dist_matrix[i, j] / 2 + (dist_matrix[i, :].sum() - dist_matrix[j, :].sum()) / (2 * (n - 2))\n",
    "    dj = dist_matrix[i, j] - di\n",
    "    return di, dj"
   ]
  },
  {
   "cell_type": "code",
   "execution_count": 4,
   "metadata": {},
   "outputs": [],
   "source": [
    "def caluclate_q_matrix(dist_matrix, n):\n",
    "    mask = (dist_matrix != 0)\n",
    "    q_matrix = n * dist_matrix - mask * (dist_matrix.sum(axis=0).reshape(1, -1) + dist_matrix.sum(axis=0).reshape(-1, 1))\n",
    "    return q_matrix"
   ]
  },
  {
   "cell_type": "code",
   "execution_count": 5,
   "metadata": {},
   "outputs": [],
   "source": [
    "def merge_subtrees(trees, i, j, dl, dr):\n",
    "    trees = trees.copy()\n",
    "    childl = trees[i]\n",
    "    childr = trees[j]\n",
    "    trees[i] = ((childl, dl), (childr, dr))\n",
    "    trees[j] = 0\n",
    "    return trees"
   ]
  },
  {
   "cell_type": "code",
   "execution_count": 6,
   "metadata": {},
   "outputs": [],
   "source": [
    "def recalculate_distances(dist_matrix, i, j):\n",
    "    dist_matrix = dist_matrix.copy()\n",
    "    mask = dist_matrix != 0\n",
    "    distances_row = (dist_matrix[i, :] + dist_matrix[j, :] - dist_matrix[i, j]) / 2\n",
    "    distances_col = (dist_matrix[:, i] + dist_matrix[:, j] - dist_matrix[j, i]) / 2\n",
    "    dist_matrix[i, :] = distances_row\n",
    "    dist_matrix[:, i] = distances_col\n",
    "    dist_matrix[j, :] *= 0 \n",
    "    dist_matrix[:, j] *= 0\n",
    "    dist_matrix = mask * dist_matrix\n",
    "    \n",
    "    return dist_matrix"
   ]
  },
  {
   "cell_type": "code",
   "execution_count": 7,
   "metadata": {},
   "outputs": [],
   "source": [
    "def to_newick(tree):\n",
    "    def recurse(tree):\n",
    "        if isinstance(tree, tuple):\n",
    "            (childl, distl), (childr, distr) = tree\n",
    "            childl = recurse(childl)\n",
    "            childr = recurse(childr)\n",
    "            return f\"({childl}:{distl :.2f},{childr}:{distr :.2f})\"\n",
    "        else:\n",
    "            node = tree\n",
    "            return f\"{node}\"\n",
    "        \n",
    "    (childl, distl), (childr, distr) = tree\n",
    "    childl = recurse(childl)\n",
    "    childr = recurse(childr)\n",
    "    return f\"({childl}:{distl :.2f},{childr}:{distr :.2f});\""
   ]
  },
  {
   "cell_type": "markdown",
   "metadata": {},
   "source": [
    "В качестве корня выбирается виртуальная вершина, разделяющая ребро на две части."
   ]
  },
  {
   "cell_type": "code",
   "execution_count": 8,
   "metadata": {},
   "outputs": [],
   "source": [
    "def nj(trees, dist_matrix):\n",
    "    steps = len(trees)\n",
    "    while steps >= 3:\n",
    "        i, j = min_dist(caluclate_q_matrix(dist_matrix, steps))\n",
    "        di, dj = tree_dist(dist_matrix, i, j, steps)\n",
    "        dist_matrix = recalculate_distances(dist_matrix, i, j)\n",
    "        trees = merge_subtrees(trees, i, j, di, dj)\n",
    "        steps -= 1\n",
    "    i, j = min_dist(dist_matrix)\n",
    "    trees = merge_subtrees(trees, i, j, dist_matrix[i, j] / 2, dist_matrix[i, j] / 2)\n",
    "    tree = trees[i]\n",
    "    return tree"
   ]
  },
  {
   "cell_type": "markdown",
   "metadata": {},
   "source": [
    "# Тестовые данные"
   ]
  },
  {
   "cell_type": "code",
   "execution_count": 9,
   "metadata": {},
   "outputs": [],
   "source": [
    "test_1_trees = ['A', 'B', 'C', 'D']\n",
    "test_1_dist = np.array([[0, 16, 16, 10],\n",
    "                        [16, 0,  8,  8],\n",
    "                        [16, 8, 0,   4],\n",
    "                        [10, 8, 4,   0]\n",
    "                    ], dtype=np.float64)"
   ]
  },
  {
   "cell_type": "code",
   "execution_count": 10,
   "metadata": {},
   "outputs": [],
   "source": [
    "test_2_trees = ['A', 'B', 'C', 'D', 'E', 'F']\n",
    "test_2_dist = np.array([[0, 5,  4, 7,  6,  8],\n",
    "                        [5, 0,  7, 10, 9, 11],\n",
    "                        [4, 7,  0, 7,  6,  8],\n",
    "                        [7, 10, 7, 0,  5,  9],\n",
    "                        [6, 9,  6, 5,  0,  8],\n",
    "                        [8, 11, 8, 9,  8,  0]\n",
    "                       ], dtype=np.float64)"
   ]
  },
  {
   "cell_type": "markdown",
   "metadata": {},
   "source": [
    "# Проверка NJ"
   ]
  },
  {
   "cell_type": "markdown",
   "metadata": {},
   "source": [
    "## Тест 1"
   ]
  },
  {
   "cell_type": "code",
   "execution_count": 11,
   "metadata": {},
   "outputs": [
    {
     "data": {
      "text/plain": [
       "'(A:5.25,(B:5.50,(C:3.50,D:0.50):0.50):5.25);'"
      ]
     },
     "execution_count": 11,
     "metadata": {},
     "output_type": "execute_result"
    }
   ],
   "source": [
    "to_newick(nj(test_1_trees, test_1_dist))"
   ]
  },
  {
   "cell_type": "code",
   "execution_count": 12,
   "metadata": {},
   "outputs": [
    {
     "data": {
      "text/plain": [
       "'(A:5.25,(B:5.50,(C:3.50,D:0.50):0.50):5.25);'"
      ]
     },
     "execution_count": 12,
     "metadata": {},
     "output_type": "execute_result"
    }
   ],
   "source": [
    "to_newick(nj(test_1_trees, test_1_dist))"
   ]
  },
  {
   "cell_type": "markdown",
   "metadata": {},
   "source": [
    "## Teст 2"
   ]
  },
  {
   "cell_type": "code",
   "execution_count": 13,
   "metadata": {},
   "outputs": [
    {
     "data": {
      "text/plain": [
       "'((((A:1.00,B:4.00):1.00,C:2.00):1.00,(D:3.00,E:2.00):1.00):2.50,F:2.50);'"
      ]
     },
     "execution_count": 13,
     "metadata": {},
     "output_type": "execute_result"
    }
   ],
   "source": [
    "to_newick(nj(test_2_trees, test_2_dist))"
   ]
  },
  {
   "cell_type": "markdown",
   "metadata": {},
   "source": [
    "### Пример из википедии"
   ]
  },
  {
   "cell_type": "code",
   "execution_count": 14,
   "metadata": {},
   "outputs": [],
   "source": [
    "test_trees = ['A', 'B', 'C', 'D', 'E']\n",
    "test_dist = np.array([[0, 5,  9,  9,  8],\n",
    "                        [5, 0,  10, 10, 9],\n",
    "                        [9, 10, 0,  8,  7],\n",
    "                        [9, 10, 8,  0,  3],\n",
    "                        [8, 9,  7,  3,  0],\n",
    "                       ], dtype=np.float64)"
   ]
  },
  {
   "cell_type": "code",
   "execution_count": 15,
   "metadata": {},
   "outputs": [
    {
     "data": {
      "text/plain": [
       "'(((A:2.00,B:3.00):3.00,(D:2.00,E:1.00):2.00):2.00,C:2.00);'"
      ]
     },
     "execution_count": 15,
     "metadata": {},
     "output_type": "execute_result"
    }
   ],
   "source": [
    "to_newick(nj(test_trees, test_dist))"
   ]
  },
  {
   "cell_type": "markdown",
   "metadata": {},
   "source": [
    "### Пример из статьи\n",
    "\n",
    "Статья: [The Neighbor-joining Method: A New Method for Reconstructing Phylogenetic Trees](https://pdfs.semanticscholar.org/16ec/b957cd06767c666c9f46c41f506a0bf6a59b.pdf?_ga=2.79234768.536811194.1606479032-1249458473.1606479032)"
   ]
  },
  {
   "cell_type": "code",
   "execution_count": 16,
   "metadata": {},
   "outputs": [],
   "source": [
    "test_trees = ['\"1\"', '\"2\"', '\"3\"', '\"4\"', '\"5\"', '\"6\"', '\"7\"', '\"8\"']\n",
    "test_dist = np.array([[0,  7,  8,  11,  13,  16, 13, 17],\n",
    "                      [7,  0,  5,  8,   10,  13, 10, 14],\n",
    "                      [8,  5,  0,  5,   7,   10, 7,  11],\n",
    "                      [11, 8,  5,  0,   8,   11, 8,  12],\n",
    "                      [13, 10, 7,  8,   0,   5,  6,  10],\n",
    "                      [16, 13, 10, 11,  5,   0,  9,  13],\n",
    "                      [13, 10, 7,  8,   6,   9,  0,  8],\n",
    "                      [17, 14, 11, 12,  10,  13, 8,  0]\n",
    "                    ], dtype=np.float64)"
   ]
  },
  {
   "cell_type": "code",
   "execution_count": 17,
   "metadata": {},
   "outputs": [
    {
     "data": {
      "text/plain": [
       "'((((((\"1\":5.00,\"2\":2.00):2.00,\"3\":1.00):1.00,\"4\":3.00):2.00,(\"5\":1.00,\"6\":4.00):2.00):1.00,\"7\":2.00):3.00,\"8\":3.00);'"
      ]
     },
     "execution_count": 17,
     "metadata": {},
     "output_type": "execute_result"
    }
   ],
   "source": [
    "to_newick(nj(test_trees, test_dist))"
   ]
  }
 ],
 "metadata": {
  "kernelspec": {
   "display_name": "Python 3",
   "language": "python",
   "name": "python3"
  },
  "language_info": {
   "codemirror_mode": {
    "name": "ipython",
    "version": 3
   },
   "file_extension": ".py",
   "mimetype": "text/x-python",
   "name": "python",
   "nbconvert_exporter": "python",
   "pygments_lexer": "ipython3",
   "version": "3.8.6"
  }
 },
 "nbformat": 4,
 "nbformat_minor": 4
}
