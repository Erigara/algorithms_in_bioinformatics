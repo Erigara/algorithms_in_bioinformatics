{
 "cells": [
  {
   "cell_type": "code",
   "execution_count": 1,
   "metadata": {},
   "outputs": [],
   "source": [
    "from random import choices, seed\n",
    "from Bio import SeqIO\n",
    "from Bio.SeqRecord import SeqRecord\n",
    "from Bio.Seq import Seq\n",
    "# random nucleotide sequences generator\n",
    "\n",
    "seed(0)\n",
    "def random_seq(n):\n",
    "    return ''.join(choices('ACTG', k=n))\n",
    "\n",
    "def print_partial(seq):\n",
    "    print(f\"{len(seq)}: {seq[:10]}...{seq[-10:]}\")"
   ]
  },
  {
   "cell_type": "code",
   "execution_count": 2,
   "metadata": {},
   "outputs": [
    {
     "name": "stdout",
     "output_type": "stream",
     "text": [
      "100: GGCCTCGCCT...GTCTGGGATC\n"
     ]
    }
   ],
   "source": [
    "seq2 = random_seq(10 ** 2)\n",
    "print_partial(seq2)"
   ]
  },
  {
   "cell_type": "code",
   "execution_count": 3,
   "metadata": {},
   "outputs": [
    {
     "name": "stdout",
     "output_type": "stream",
     "text": [
      "1000: TGATAAGCGA...TATCAAATAG\n"
     ]
    }
   ],
   "source": [
    "seq3 = random_seq(10 ** 3)\n",
    "print_partial(seq3)"
   ]
  },
  {
   "cell_type": "code",
   "execution_count": 4,
   "metadata": {},
   "outputs": [
    {
     "name": "stdout",
     "output_type": "stream",
     "text": [
      "100000: GGCGGGCTTC...GCGTAACGAA\n"
     ]
    }
   ],
   "source": [
    "seq5 = random_seq(10 ** 5)\n",
    "print_partial(seq5)"
   ]
  },
  {
   "cell_type": "code",
   "execution_count": 5,
   "metadata": {},
   "outputs": [],
   "source": [
    "sequences = [SeqRecord(Seq(s), id=f\"{i}\") for i, s in enumerate([seq2, seq3, seq5])]\n",
    "with open(\"hw_3.fasta\", \"w\") as output_handle:\n",
    "    SeqIO.write(sequences, output_handle, \"fasta\")"
   ]
  },
  {
   "cell_type": "code",
   "execution_count": 6,
   "metadata": {},
   "outputs": [
    {
     "name": "stdout",
     "output_type": "stream",
     "text": [
      ">0 <unknown description>\r\n",
      "GGCCTCGCCTGTCGTCGGGGCTGTCACTGGCGCGTATCGTACGACGATAGGCACTGATTT\r\n",
      "GTGTTCTCTCAATTCAGGGGGGTCTCGGGTGTCTGGGATC\r\n",
      ">1 <unknown description>\r\n",
      "TGATAAGCGAATATGTTATTTCCGAAGAAAGGACACATCATAAGACTGGATGATGCCTCA\r\n",
      "CCTTCCGCTATCACAGCCCGTTTCCTAACATCGTCCTCTACCATCTGGCCCGGGAGTATG\r\n",
      "CTCATAGTAATGCGAGCACCGGATTCGCAATTGGGATTTTGTCTATAACGTCTAAGCCTC\r\n",
      "CAAATACCCAGCGGCCTCCTGGTCGTAATAACTCCTTCCGCGCCAGTGCTACAAGAAACT\r\n",
      "AGGACTGCGCCCTATACGGGAACGGTTGAAGAAAAGCAATGTGTTTGGGTGATTGCGCTG\r\n",
      "GTAATCAGGCCGATACGAACCGTTAGCTCACAATTATCCGCGTCTCATTGAGGGGTGTGA\r\n",
      "GCGCGAAGCGGTTAAGGGTCCACTGGCAGTACTAGGTAACACAGGAGAATGAACATGAAC\r\n",
      "GAGCCCGGTAGATAGGGCAGCCAAAAACTTACTACCGACCTCACCGGCTTGCCGCACGAC\r\n",
      "TCAATTACGTTATCTGAGCGAGACTTCACCGGTAGCCTAGACCTTTTCTCGGCCTATCTA\r\n",
      "TCCCCTCTACTATACGATAGTTTAATGGTTAGCACCACGCCTTAGCGCGCAAGTACAAAA\r\n",
      "TATTTTCGCCTTGGGGTCTACAAATAGTGCGCCAGGCCCAACATAATTCGCCTAGACTAG\r\n",
      "GCAAAGCGCACGGAACAGGCCTCTACCTTCAAGATACTTTTGATATCTTTAGATTATCAG\r\n",
      "TCTAACGTAGGGTTATGGCTTGAGTCCAATTCGCCGCTTGGCAATGCCTTCTCCTTAATA\r\n",
      "AATAAGCGACCACGTCCCTTTCAGCCAAGTTACGGAAGAGTAAGTTCATCGTAGAACAAC\r\n",
      "TCCCCCGTGGTCTCTCCATATTGCTATCGGATCGGTTTCGGCTAGTGCTCGTGAAAAGGC\r\n",
      "GGGTATCGAATAATGTGCCCGTGTTGAGGGGATGTCGTCTGAATGTTTCTAGCGGACTCT\r\n",
      "GTGAGGTGCGGTAAACGCGTCGACGATCACTATCAAATAG\r\n"
     ]
    }
   ],
   "source": [
    "!head -n 21 hw_3.fasta"
   ]
  },
  {
   "cell_type": "markdown",
   "metadata": {},
   "source": [
    "![](https://imgur.com/wUdtUJ3.png)\n",
    "![](https://imgur.com/TiOipg4.png)\n",
    "![](https://imgur.com/cj3FxAB.png)\n",
    "![](https://imgur.com/LSn8Ma0.png)\n",
    "![](https://imgur.com/aQpZf7N.png)"
   ]
  }
 ],
 "metadata": {
  "kernelspec": {
   "display_name": "Python 3",
   "language": "python",
   "name": "python3"
  },
  "language_info": {
   "codemirror_mode": {
    "name": "ipython",
    "version": 3
   },
   "file_extension": ".py",
   "mimetype": "text/x-python",
   "name": "python",
   "nbconvert_exporter": "python",
   "pygments_lexer": "ipython3",
   "version": "3.8.5"
  }
 },
 "nbformat": 4,
 "nbformat_minor": 4
}
