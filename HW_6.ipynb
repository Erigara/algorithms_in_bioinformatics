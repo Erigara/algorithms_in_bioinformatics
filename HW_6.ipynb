{
 "cells": [
  {
   "cell_type": "markdown",
   "metadata": {},
   "source": [
    "# Алгоритмы Витерби"
   ]
  },
  {
   "cell_type": "code",
   "execution_count": 1,
   "metadata": {},
   "outputs": [],
   "source": [
    "import numpy as np"
   ]
  },
  {
   "cell_type": "code",
   "execution_count": 2,
   "metadata": {},
   "outputs": [],
   "source": [
    "def state_to_index(state):\n",
    "    mapping = {'О': 0, 'Р': 1}\n",
    "    return mapping[state]"
   ]
  },
  {
   "cell_type": "code",
   "execution_count": 23,
   "metadata": {},
   "outputs": [],
   "source": [
    "def viterbi(open_states, P, A, B):\n",
    "    assert len(P) == A.shape[0] == B.shape[0]\n",
    "    psi = []\n",
    "    idx = state_to_index(open_states[0])\n",
    "    epsilon = P * B[:, idx]\n",
    "    for i, open_state in enumerate(open_states[1:]):\n",
    "        idx = state_to_index(open_state)\n",
    "        psi.append(np.argmax(A * epsilon, axis=0))\n",
    "        epsilon = np.max(A * epsilon, axis=0) * B[:, idx]\n",
    "    hidden_states = []\n",
    "    hidden_states.append(np.argmax(epsilon))\n",
    "    n = len(psi)\n",
    "    for i in range(1, n):\n",
    "        hidden_states.append(psi[n - i][hidden_states[i - 1]])\n",
    "    return hidden_states"
   ]
  },
  {
   "cell_type": "code",
   "execution_count": 3,
   "metadata": {},
   "outputs": [],
   "source": [
    "def viterbi_algorithm(A, states, emissions, prior_probabilities, B, sequence):\n",
    "    probabilities = []\n",
    "    \n",
    "    emissions_dict = dict(zip(emissions, list(range(len(emissions)))))    \n",
    "    emissions_sequence = []\n",
    "    for item in sequence:\n",
    "        emissions_sequence.append(emissions_dict[item])\n",
    "\n",
    "    probabilities.append(\n",
    "        tuple(\n",
    "            prior_probabilities[state]*B[state, emissions_sequence[0]]\n",
    "            for state in range(len(states)))\n",
    "    )\n",
    "\n",
    "    for i in range(1, len(emissions_sequence)):\n",
    "        previous_probabilities = probabilities[-1]\n",
    "        current_probabilities = []\n",
    "        for col in range(len(A[0,:])):\n",
    "            p = max(\n",
    "                previous_probabilities[state]*A[state,col]*B[col,emissions_sequence[i]]\n",
    "                for state in range(len(states))\n",
    "            )\n",
    "            current_probabilities.append(p)\n",
    "        probabilities.append(tuple(current_probabilities))\n",
    "\n",
    "    hidden_states_sequence = []\n",
    "    for i in probabilities:\n",
    "        hidden_state = states[np.argmax(i)]\n",
    "        hidden_states_sequence.append(hidden_state)\n",
    "    \n",
    "    return hidden_states_sequence"
   ]
  },
  {
   "cell_type": "markdown",
   "metadata": {},
   "source": [
    "## Тестирование"
   ]
  },
  {
   "cell_type": "code",
   "execution_count": 12,
   "metadata": {},
   "outputs": [],
   "source": [
    "open_states = 'ОРОРОРООРРРРРРРРРРОООООООО'"
   ]
  },
  {
   "cell_type": "code",
   "execution_count": 13,
   "metadata": {},
   "outputs": [
    {
     "data": {
      "text/plain": [
       "array([0.5, 0.5])"
      ]
     },
     "execution_count": 13,
     "metadata": {},
     "output_type": "execute_result"
    }
   ],
   "source": [
    "P = np.array([0.5, 0.5])\n",
    "P"
   ]
  },
  {
   "cell_type": "markdown",
   "metadata": {},
   "source": [
    "## Тест 1"
   ]
  },
  {
   "cell_type": "code",
   "execution_count": 14,
   "metadata": {},
   "outputs": [
    {
     "data": {
      "text/plain": [
       "array([[0.5, 0.5],\n",
       "       [0.1, 0.9]])"
      ]
     },
     "execution_count": 14,
     "metadata": {},
     "output_type": "execute_result"
    }
   ],
   "source": [
    "B = np.array(\n",
    "    [\n",
    "        [0.5, 0.5],\n",
    "        [0.1, 0.9]\n",
    "    ],\n",
    ")\n",
    "B"
   ]
  },
  {
   "cell_type": "code",
   "execution_count": 15,
   "metadata": {},
   "outputs": [
    {
     "data": {
      "text/plain": [
       "array([[0.8, 0.2],\n",
       "       [0.2, 0.8]])"
      ]
     },
     "execution_count": 15,
     "metadata": {},
     "output_type": "execute_result"
    }
   ],
   "source": [
    "A = np.array(\n",
    "    [\n",
    "        [0.8, 0.2],\n",
    "        [0.2, 0.8]\n",
    "    ],\n",
    ")\n",
    "A"
   ]
  },
  {
   "cell_type": "code",
   "execution_count": 16,
   "metadata": {},
   "outputs": [
    {
     "data": {
      "text/plain": [
       "[1, 1, 1, 1, 1, 1, 1, 1, 1, 1, 2, 2, 2, 2, 2, 2, 2, 2, 1, 1, 1, 1, 1, 1, 1, 1]"
      ]
     },
     "execution_count": 16,
     "metadata": {},
     "output_type": "execute_result"
    }
   ],
   "source": [
    "viterbi_algorithm(A, [1, 2], ['О', 'Р'], P, B, open_states)"
   ]
  },
  {
   "cell_type": "code",
   "execution_count": 24,
   "metadata": {},
   "outputs": [
    {
     "data": {
      "text/plain": [
       "[0, 0, 0, 0, 0, 0, 0, 0, 0, 0, 0, 0, 0, 0, 0, 0, 0, 0, 0, 0, 0, 0, 0, 0, 0]"
      ]
     },
     "execution_count": 24,
     "metadata": {},
     "output_type": "execute_result"
    }
   ],
   "source": [
    "viterbi(open_states, P, A, B)"
   ]
  },
  {
   "cell_type": "markdown",
   "metadata": {},
   "source": [
    "## Тест 2"
   ]
  },
  {
   "cell_type": "code",
   "execution_count": 31,
   "metadata": {},
   "outputs": [
    {
     "data": {
      "text/plain": [
       "array([[0.5 , 0.5 ],\n",
       "       [0.51, 0.49]])"
      ]
     },
     "execution_count": 31,
     "metadata": {},
     "output_type": "execute_result"
    }
   ],
   "source": [
    "B = np.array(\n",
    "    [\n",
    "        [0.5,  0.5],\n",
    "        [0.51, 0.49]\n",
    "    ],\n",
    ")\n",
    "B"
   ]
  },
  {
   "cell_type": "code",
   "execution_count": 33,
   "metadata": {},
   "outputs": [
    {
     "data": {
      "text/plain": [
       "array([[0.5, 0.5],\n",
       "       [0.5, 0.5]])"
      ]
     },
     "execution_count": 33,
     "metadata": {},
     "output_type": "execute_result"
    }
   ],
   "source": [
    "A = np.array(\n",
    "    [\n",
    "        [0.5, 0.5],\n",
    "        [0.5, 0.5]\n",
    "    ],\n",
    ")\n",
    "A"
   ]
  },
  {
   "cell_type": "code",
   "execution_count": 28,
   "metadata": {},
   "outputs": [
    {
     "data": {
      "text/plain": [
       "[2, 1, 2, 1, 2, 1, 2, 2, 1, 1, 1, 1, 1, 1, 1, 1, 1, 1, 2, 2, 2, 2, 2, 2, 2, 2]"
      ]
     },
     "execution_count": 28,
     "metadata": {},
     "output_type": "execute_result"
    }
   ],
   "source": [
    "viterbi_algorithm(A, [1, 2], ['О', 'Р'], P, B, open_states)"
   ]
  },
  {
   "cell_type": "code",
   "execution_count": 29,
   "metadata": {},
   "outputs": [
    {
     "data": {
      "text/plain": [
       "[0, 0, 0, 0, 0, 0, 0, 0, 0, 0, 0, 0, 0, 0, 0, 0, 0, 0, 0, 0, 0, 0, 0, 0, 0]"
      ]
     },
     "execution_count": 29,
     "metadata": {},
     "output_type": "execute_result"
    }
   ],
   "source": [
    "viterbi(open_states, P, A, B)"
   ]
  },
  {
   "cell_type": "code",
   "execution_count": null,
   "metadata": {},
   "outputs": [],
   "source": []
  }
 ],
 "metadata": {
  "kernelspec": {
   "display_name": "Python 3",
   "language": "python",
   "name": "python3"
  },
  "language_info": {
   "codemirror_mode": {
    "name": "ipython",
    "version": 3
   },
   "file_extension": ".py",
   "mimetype": "text/x-python",
   "name": "python",
   "nbconvert_exporter": "python",
   "pygments_lexer": "ipython3",
   "version": "3.8.6"
  }
 },
 "nbformat": 4,
 "nbformat_minor": 4
}
