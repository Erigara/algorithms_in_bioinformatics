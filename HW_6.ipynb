{
 "cells": [
  {
   "cell_type": "markdown",
   "metadata": {},
   "source": [
    "# Алгоритмы Витерби"
   ]
  },
  {
   "cell_type": "code",
   "execution_count": 1,
   "metadata": {},
   "outputs": [],
   "source": [
    "import numpy as np"
   ]
  },
  {
   "cell_type": "code",
   "execution_count": 58,
   "metadata": {},
   "outputs": [],
   "source": [
    "def open_state_to_index(state):\n",
    "    mapping = {'О': 0, 'Р': 1}\n",
    "    return mapping[state]\n",
    "\n",
    "def index_to_hidden_state(idx):\n",
    "    mapping = [1, 2]\n",
    "    return mapping[idx]"
   ]
  },
  {
   "cell_type": "code",
   "execution_count": 59,
   "metadata": {},
   "outputs": [],
   "source": [
    "def viterbi(open_states, P, A, B):\n",
    "    assert len(P) == A.shape[0] == B.shape[0]\n",
    "    psi = []\n",
    "    idx = open_state_to_index(open_states[0])\n",
    "    epsilon = (P * B[:, idx]).reshape(-1, 1)\n",
    "    for i, open_state in enumerate(open_states[1:]):\n",
    "        idx = open_state_to_index(open_state)\n",
    "        psi.append(np.argmax(A * epsilon, axis=0))\n",
    "        epsilon = (np.max(A * epsilon, axis=0) * B[:, idx]).reshape(-1, 1)\n",
    "    hidden_states = []\n",
    "    hidden_states.append(np.argmax(epsilon))\n",
    "    n = len(psi)\n",
    "    for i in range(n):\n",
    "        hidden_states.append(psi[n - i - 1][hidden_states[i - 1]])\n",
    "    hidden_states.reverse()\n",
    "    return [index_to_hidden_state(idx) for idx in hidden_states]"
   ]
  },
  {
   "cell_type": "markdown",
   "metadata": {},
   "source": [
    "# Алгоритм Forward-Backward"
   ]
  },
  {
   "cell_type": "code",
   "execution_count": 147,
   "metadata": {},
   "outputs": [],
   "source": [
    "def forward_backward(open_states, P, A, B):\n",
    "    assert len(P) == A.shape[0] == B.shape[0]\n",
    "    n = len(open_states)\n",
    "    alphas = []\n",
    "    idx = open_state_to_index(open_states[0])\n",
    "    alpha = (P * B[:, idx]).reshape(1, -1)\n",
    "    alphas.append(alpha)\n",
    "    for i, open_state in enumerate(open_states[1:]):\n",
    "        idx = open_state_to_index(open_state)\n",
    "        alpha = (alpha @ (A * B[:, idx].reshape(1, -1))).reshape(1, -1)\n",
    "        alphas.append(alpha)\n",
    "    alphas = np.array(alphas).squeeze()\n",
    "    \n",
    "    betas = []\n",
    "    beta = np.ones_like(P).reshape(-1, 1)\n",
    "    for i in range(n):\n",
    "        idx = open_state_to_index(open_states[n - i - 1])\n",
    "        beta = ((A * B[:, idx].reshape(-1, 1)) @ beta).reshape(-1, 1)\n",
    "        betas.append(beta)\n",
    "    betas.reverse()\n",
    "    betas = np.array(betas).squeeze()\n",
    "    probs = alphas * betas\n",
    "    probs[:, 0] /= (alphas * betas).sum(axis=1)\n",
    "    probs[:, 1] /= (alphas * betas).sum(axis=1)\n",
    "    return probs"
   ]
  },
  {
   "cell_type": "markdown",
   "metadata": {},
   "source": [
    "## Тестирование"
   ]
  },
  {
   "cell_type": "code",
   "execution_count": 148,
   "metadata": {},
   "outputs": [],
   "source": [
    "open_states = 'ОРОРОРООРРРРРРРРРРОООООООО'"
   ]
  },
  {
   "cell_type": "code",
   "execution_count": 149,
   "metadata": {},
   "outputs": [
    {
     "data": {
      "text/plain": [
       "array([0.5, 0.5], dtype=float128)"
      ]
     },
     "execution_count": 149,
     "metadata": {},
     "output_type": "execute_result"
    }
   ],
   "source": [
    "P = np.array([0.5, 0.5], dtype=np.float128)\n",
    "P"
   ]
  },
  {
   "cell_type": "markdown",
   "metadata": {},
   "source": [
    "## Тест 1"
   ]
  },
  {
   "cell_type": "code",
   "execution_count": 150,
   "metadata": {},
   "outputs": [
    {
     "data": {
      "text/plain": [
       "array([[0.5, 0.5],\n",
       "       [0.1, 0.9]], dtype=float128)"
      ]
     },
     "execution_count": 150,
     "metadata": {},
     "output_type": "execute_result"
    }
   ],
   "source": [
    "B = np.array(\n",
    "    [\n",
    "        [0.5, 0.5],\n",
    "        [0.1, 0.9]\n",
    "    ], dtype=np.float128\n",
    ")\n",
    "B"
   ]
  },
  {
   "cell_type": "code",
   "execution_count": 151,
   "metadata": {},
   "outputs": [
    {
     "data": {
      "text/plain": [
       "array([[0.8, 0.2],\n",
       "       [0.2, 0.8]], dtype=float128)"
      ]
     },
     "execution_count": 151,
     "metadata": {},
     "output_type": "execute_result"
    }
   ],
   "source": [
    "A = np.array(\n",
    "    [\n",
    "        [0.8, 0.2],\n",
    "        [0.2, 0.8]\n",
    "    ], dtype=np.float128\n",
    ")\n",
    "A"
   ]
  },
  {
   "cell_type": "code",
   "execution_count": 152,
   "metadata": {},
   "outputs": [
    {
     "data": {
      "text/plain": [
       "[1, 1, 1, 1, 1, 1, 1, 1, 2, 2, 2, 2, 2, 2, 2, 2, 2, 2, 1, 1, 1, 1, 1, 1, 1, 1]"
      ]
     },
     "execution_count": 152,
     "metadata": {},
     "output_type": "execute_result"
    }
   ],
   "source": [
    "viterbi(open_states, P, A, B)"
   ]
  },
  {
   "cell_type": "code",
   "execution_count": 153,
   "metadata": {},
   "outputs": [
    {
     "data": {
      "text/plain": [
       "array([[0.96835726, 0.03164274],\n",
       "       [0.64533767, 0.35466233],\n",
       "       [0.97303856, 0.02696144],\n",
       "       [0.66247696, 0.33752304],\n",
       "       [0.975122  , 0.024878  ],\n",
       "       [0.68315411, 0.31684589],\n",
       "       [0.98074602, 0.01925398],\n",
       "       [0.96846735, 0.03153265],\n",
       "       [0.31859247, 0.68140753],\n",
       "       [0.17274253, 0.82725747],\n",
       "       [0.11519081, 0.88480919],\n",
       "       [0.09130111, 0.90869889],\n",
       "       [0.08256203, 0.91743797],\n",
       "       [0.08275657, 0.91724343],\n",
       "       [0.09201997, 0.90798003],\n",
       "       [0.11695831, 0.88304169],\n",
       "       [0.17701972, 0.82298028],\n",
       "       [0.33006042, 0.66993958],\n",
       "       [0.97551682, 0.02448318],\n",
       "       [0.99271764, 0.00728236],\n",
       "       [0.99561575, 0.00438425],\n",
       "       [0.99612883, 0.00387117],\n",
       "       [0.99618335, 0.00381665],\n",
       "       [0.99598096, 0.00401904],\n",
       "       [0.99477011, 0.00522989],\n",
       "       [0.98788325, 0.01211675]], dtype=float128)"
      ]
     },
     "execution_count": 153,
     "metadata": {},
     "output_type": "execute_result"
    }
   ],
   "source": [
    "forward_backward(open_states, P, A, B)"
   ]
  },
  {
   "cell_type": "code",
   "execution_count": 154,
   "metadata": {},
   "outputs": [
    {
     "data": {
      "text/plain": [
       "[1, 1, 1, 1, 1, 1, 1, 1, 2, 2, 2, 2, 2, 2, 2, 2, 2, 2, 1, 1, 1, 1, 1, 1, 1, 1]"
      ]
     },
     "execution_count": 154,
     "metadata": {},
     "output_type": "execute_result"
    }
   ],
   "source": [
    "list(np.argmax(forward_backward(open_states, P, A, B), axis=1) + 1)"
   ]
  },
  {
   "cell_type": "markdown",
   "metadata": {},
   "source": [
    "## Тест 2"
   ]
  },
  {
   "cell_type": "code",
   "execution_count": 155,
   "metadata": {},
   "outputs": [
    {
     "data": {
      "text/plain": [
       "array([[0.5 , 0.5 ],\n",
       "       [0.51, 0.49]], dtype=float128)"
      ]
     },
     "execution_count": 155,
     "metadata": {},
     "output_type": "execute_result"
    }
   ],
   "source": [
    "B = np.array(\n",
    "    [\n",
    "        [0.5,  0.5],\n",
    "        [0.51,  0.49]\n",
    "    ], dtype=np.float128\n",
    ")\n",
    "B"
   ]
  },
  {
   "cell_type": "code",
   "execution_count": 156,
   "metadata": {},
   "outputs": [
    {
     "data": {
      "text/plain": [
       "array([[0.5, 0.5],\n",
       "       [0.5, 0.5]], dtype=float128)"
      ]
     },
     "execution_count": 156,
     "metadata": {},
     "output_type": "execute_result"
    }
   ],
   "source": [
    "A = np.array(\n",
    "    [\n",
    "        [0.5, 0.5],\n",
    "        [0.5, 0.5]\n",
    "    ], dtype=np.float128\n",
    ")\n",
    "A"
   ]
  },
  {
   "cell_type": "code",
   "execution_count": 157,
   "metadata": {},
   "outputs": [
    {
     "data": {
      "text/plain": [
       "[2, 1, 2, 1, 2, 1, 2, 2, 1, 1, 1, 1, 1, 1, 1, 1, 1, 1, 2, 2, 2, 2, 2, 2, 2, 2]"
      ]
     },
     "execution_count": 157,
     "metadata": {},
     "output_type": "execute_result"
    }
   ],
   "source": [
    "viterbi(open_states, P, A, B)"
   ]
  },
  {
   "cell_type": "code",
   "execution_count": 158,
   "metadata": {},
   "outputs": [
    {
     "data": {
      "text/plain": [
       "array([[0.49009998, 0.50990002],\n",
       "       [0.51009998, 0.48990002],\n",
       "       [0.49009998, 0.50990002],\n",
       "       [0.51009998, 0.48990002],\n",
       "       [0.49009998, 0.50990002],\n",
       "       [0.51009998, 0.48990002],\n",
       "       [0.49009998, 0.50990002],\n",
       "       [0.49009998, 0.50990002],\n",
       "       [0.51009998, 0.48990002],\n",
       "       [0.51009998, 0.48990002],\n",
       "       [0.51009998, 0.48990002],\n",
       "       [0.51009998, 0.48990002],\n",
       "       [0.51009998, 0.48990002],\n",
       "       [0.51009998, 0.48990002],\n",
       "       [0.51009998, 0.48990002],\n",
       "       [0.51009998, 0.48990002],\n",
       "       [0.51009998, 0.48990002],\n",
       "       [0.51009998, 0.48990002],\n",
       "       [0.49009998, 0.50990002],\n",
       "       [0.49009998, 0.50990002],\n",
       "       [0.49009998, 0.50990002],\n",
       "       [0.49009998, 0.50990002],\n",
       "       [0.49009998, 0.50990002],\n",
       "       [0.49009998, 0.50990002],\n",
       "       [0.49009998, 0.50990002],\n",
       "       [0.49009998, 0.50990002]], dtype=float128)"
      ]
     },
     "execution_count": 158,
     "metadata": {},
     "output_type": "execute_result"
    }
   ],
   "source": [
    "forward_backward(open_states, P, A, B)"
   ]
  },
  {
   "cell_type": "code",
   "execution_count": 159,
   "metadata": {},
   "outputs": [
    {
     "data": {
      "text/plain": [
       "[2, 1, 2, 1, 2, 1, 2, 2, 1, 1, 1, 1, 1, 1, 1, 1, 1, 1, 2, 2, 2, 2, 2, 2, 2, 2]"
      ]
     },
     "execution_count": 159,
     "metadata": {},
     "output_type": "execute_result"
    }
   ],
   "source": [
    "list(np.argmax(forward_backward(open_states, P, A, B), axis=1) + 1)"
   ]
  }
 ],
 "metadata": {
  "kernelspec": {
   "display_name": "Python 3",
   "language": "python",
   "name": "python3"
  },
  "language_info": {
   "codemirror_mode": {
    "name": "ipython",
    "version": 3
   },
   "file_extension": ".py",
   "mimetype": "text/x-python",
   "name": "python",
   "nbconvert_exporter": "python",
   "pygments_lexer": "ipython3",
   "version": "3.8.6"
  }
 },
 "nbformat": 4,
 "nbformat_minor": 4
}
