{
 "cells": [
  {
   "cell_type": "markdown",
   "metadata": {},
   "source": [
    "# Алгоритмы Витерби"
   ]
  },
  {
   "cell_type": "code",
   "execution_count": 1,
   "metadata": {},
   "outputs": [],
   "source": [
    "import numpy as np"
   ]
  },
  {
   "cell_type": "code",
   "execution_count": 2,
   "metadata": {},
   "outputs": [],
   "source": [
    "def open_state_to_index(state):\n",
    "    mapping = {'О': 0, 'Р': 1}\n",
    "    return mapping[state]\n",
    "\n",
    "def index_to_hidden_state(idx):\n",
    "    mapping = [1, 2]\n",
    "    return mapping[idx]"
   ]
  },
  {
   "cell_type": "code",
   "execution_count": 3,
   "metadata": {},
   "outputs": [],
   "source": [
    "def viterbi(open_states, P, A, B):\n",
    "    assert len(P) == A.shape[0] == B.shape[0]\n",
    "    psi = []\n",
    "    idx = open_state_to_index(open_states[0])\n",
    "    epsilon = (P * B[:, idx]).reshape(-1, 1)\n",
    "    for i, open_state in enumerate(open_states[1:]):\n",
    "        idx = open_state_to_index(open_state)\n",
    "        psi.append(np.argmax(A * epsilon, axis=0))\n",
    "        epsilon = (np.max(A * epsilon, axis=0) * B[:, idx]).reshape(-1, 1)\n",
    "    hidden_states = []\n",
    "    hidden_states.append(np.argmax(epsilon))\n",
    "    n = len(psi)\n",
    "    for i in range(n):\n",
    "        hidden_states.append(psi[n - i - 1][hidden_states[i - 1]])\n",
    "    hidden_states.reverse()\n",
    "    return [index_to_hidden_state(idx) for idx in hidden_states]"
   ]
  },
  {
   "cell_type": "markdown",
   "metadata": {},
   "source": [
    "# Алгоритм Forward-Backward"
   ]
  },
  {
   "cell_type": "code",
   "execution_count": 4,
   "metadata": {},
   "outputs": [],
   "source": [
    "def forward_backward(open_states, P, A, B):\n",
    "    assert len(P) == A.shape[0] == B.shape[0]\n",
    "    n = len(open_states)\n",
    "    alphas = []\n",
    "    idx = open_state_to_index(open_states[0])\n",
    "    alpha = (P * B[:, idx]).reshape(-1, 1)\n",
    "    alphas.append(alpha)\n",
    "    for i, open_state in enumerate(open_states[1:]):\n",
    "        idx = open_state_to_index(open_state)\n",
    "        alpha = (A * B[:, idx].reshape(-1, 1)) @ alpha\n",
    "        alphas.append(alpha)\n",
    "    alphas = np.array(alphas).squeeze()\n",
    "    \n",
    "    betas = []\n",
    "    beta = np.ones_like(P).reshape(-1, 1)\n",
    "    betas.append(beta)\n",
    "    for i in range(n - 1):\n",
    "        idx = open_state_to_index(open_states[n - i - 1])\n",
    "        beta = (A.T * B[:, idx].reshape(1, -1)) @ beta\n",
    "        betas.append(beta)\n",
    "    betas.reverse()\n",
    "    betas = np.array(betas).squeeze()\n",
    "    probs = alphas * betas / alphas[-1].sum()\n",
    "    return probs"
   ]
  },
  {
   "cell_type": "markdown",
   "metadata": {},
   "source": [
    "## Тестирование"
   ]
  },
  {
   "cell_type": "code",
   "execution_count": 5,
   "metadata": {},
   "outputs": [],
   "source": [
    "open_states = 'ОРОРОРООРРРРРРРРРРОООООООО'"
   ]
  },
  {
   "cell_type": "code",
   "execution_count": 6,
   "metadata": {},
   "outputs": [
    {
     "data": {
      "text/plain": [
       "array([0.5, 0.5], dtype=float128)"
      ]
     },
     "execution_count": 6,
     "metadata": {},
     "output_type": "execute_result"
    }
   ],
   "source": [
    "P = np.array([0.5, 0.5], dtype=np.float128)\n",
    "P"
   ]
  },
  {
   "cell_type": "markdown",
   "metadata": {},
   "source": [
    "## Тест 1"
   ]
  },
  {
   "cell_type": "code",
   "execution_count": 7,
   "metadata": {},
   "outputs": [
    {
     "data": {
      "text/plain": [
       "array([[0.5, 0.5],\n",
       "       [0.1, 0.9]], dtype=float128)"
      ]
     },
     "execution_count": 7,
     "metadata": {},
     "output_type": "execute_result"
    }
   ],
   "source": [
    "B = np.array(\n",
    "    [\n",
    "        [0.5, 0.5],\n",
    "        [0.1, 0.9]\n",
    "    ], dtype=np.float128\n",
    ")\n",
    "B"
   ]
  },
  {
   "cell_type": "code",
   "execution_count": 8,
   "metadata": {},
   "outputs": [
    {
     "data": {
      "text/plain": [
       "array([[0.8, 0.2],\n",
       "       [0.2, 0.8]], dtype=float128)"
      ]
     },
     "execution_count": 8,
     "metadata": {},
     "output_type": "execute_result"
    }
   ],
   "source": [
    "A = np.array(\n",
    "    [\n",
    "        [0.8, 0.2],\n",
    "        [0.2, 0.8]\n",
    "    ], dtype=np.float128\n",
    ")\n",
    "A"
   ]
  },
  {
   "cell_type": "code",
   "execution_count": 9,
   "metadata": {},
   "outputs": [
    {
     "data": {
      "text/plain": [
       "[1, 1, 1, 1, 1, 1, 1, 1, 2, 2, 2, 2, 2, 2, 2, 2, 2, 2, 1, 1, 1, 1, 1, 1, 1, 1]"
      ]
     },
     "execution_count": 9,
     "metadata": {},
     "output_type": "execute_result"
    }
   ],
   "source": [
    "viterbi(open_states, P, A, B)"
   ]
  },
  {
   "cell_type": "code",
   "execution_count": 10,
   "metadata": {},
   "outputs": [
    {
     "data": {
      "text/plain": [
       "array([[0.85956173, 0.14043827],\n",
       "       [0.76609555, 0.23390445],\n",
       "       [0.8783159 , 0.1216841 ],\n",
       "       [0.77939405, 0.22060595],\n",
       "       [0.88686798, 0.11313202],\n",
       "       [0.79512375, 0.20487625],\n",
       "       [0.91061422, 0.08938578],\n",
       "       [0.85999559, 0.14000441],\n",
       "       [0.45699127, 0.54300873],\n",
       "       [0.27318414, 0.72681586],\n",
       "       [0.18984842, 0.81015158],\n",
       "       [0.15315539, 0.84684461],\n",
       "       [0.13940407, 0.86059593],\n",
       "       [0.13971214, 0.86028786],\n",
       "       [0.15427858, 0.84572142],\n",
       "       [0.19251224, 0.80748776],\n",
       "       [0.27910923, 0.72089077],\n",
       "       [0.47000478, 0.52999522],\n",
       "       [0.88850328, 0.11149672],\n",
       "       [0.96461882, 0.03538118],\n",
       "       [0.97845654, 0.02154346],\n",
       "       [0.98093931, 0.01906069],\n",
       "       [0.98120371, 0.01879629],\n",
       "       [0.98022273, 0.01977727],\n",
       "       [0.97438637, 0.02561363],\n",
       "       [0.94221681, 0.05778319]], dtype=float128)"
      ]
     },
     "execution_count": 10,
     "metadata": {},
     "output_type": "execute_result"
    }
   ],
   "source": [
    "hidden_state_probs = forward_backward(open_states, P, A, B)\n",
    "hidden_state_probs"
   ]
  },
  {
   "cell_type": "code",
   "execution_count": 11,
   "metadata": {},
   "outputs": [
    {
     "data": {
      "text/plain": [
       "array([1., 1., 1., 1., 1., 1., 1., 1., 1., 1., 1., 1., 1., 1., 1., 1., 1.,\n",
       "       1., 1., 1., 1., 1., 1., 1., 1., 1.], dtype=float128)"
      ]
     },
     "execution_count": 11,
     "metadata": {},
     "output_type": "execute_result"
    }
   ],
   "source": [
    "# сумма вероятностей скрытых состояний в каждый момент времени t равна 1\n",
    "hidden_state_probs.sum(axis=1)"
   ]
  },
  {
   "cell_type": "code",
   "execution_count": 12,
   "metadata": {},
   "outputs": [
    {
     "data": {
      "text/plain": [
       "[1, 1, 1, 1, 1, 1, 1, 1, 2, 2, 2, 2, 2, 2, 2, 2, 2, 2, 1, 1, 1, 1, 1, 1, 1, 1]"
      ]
     },
     "execution_count": 12,
     "metadata": {},
     "output_type": "execute_result"
    }
   ],
   "source": [
    "list(np.argmax(hidden_state_probs, axis=1) + 1)"
   ]
  },
  {
   "cell_type": "markdown",
   "metadata": {},
   "source": [
    "## Тест 2"
   ]
  },
  {
   "cell_type": "code",
   "execution_count": 13,
   "metadata": {},
   "outputs": [
    {
     "data": {
      "text/plain": [
       "array([[0.5 , 0.5 ],\n",
       "       [0.51, 0.49]], dtype=float128)"
      ]
     },
     "execution_count": 13,
     "metadata": {},
     "output_type": "execute_result"
    }
   ],
   "source": [
    "B = np.array(\n",
    "    [\n",
    "        [0.5,  0.5],\n",
    "        [0.51,  0.49]\n",
    "    ], dtype=np.float128\n",
    ")\n",
    "B"
   ]
  },
  {
   "cell_type": "code",
   "execution_count": 14,
   "metadata": {},
   "outputs": [
    {
     "data": {
      "text/plain": [
       "array([[0.5, 0.5],\n",
       "       [0.5, 0.5]], dtype=float128)"
      ]
     },
     "execution_count": 14,
     "metadata": {},
     "output_type": "execute_result"
    }
   ],
   "source": [
    "A = np.array(\n",
    "    [\n",
    "        [0.5, 0.5],\n",
    "        [0.5, 0.5]\n",
    "    ], dtype=np.float128\n",
    ")\n",
    "A"
   ]
  },
  {
   "cell_type": "code",
   "execution_count": 15,
   "metadata": {},
   "outputs": [
    {
     "data": {
      "text/plain": [
       "[2, 1, 2, 1, 2, 1, 2, 2, 1, 1, 1, 1, 1, 1, 1, 1, 1, 1, 2, 2, 2, 2, 2, 2, 2, 2]"
      ]
     },
     "execution_count": 15,
     "metadata": {},
     "output_type": "execute_result"
    }
   ],
   "source": [
    "viterbi(open_states, P, A, B)"
   ]
  },
  {
   "cell_type": "code",
   "execution_count": 16,
   "metadata": {},
   "outputs": [
    {
     "data": {
      "text/plain": [
       "array([[0.4950495 , 0.5049505 ],\n",
       "       [0.50505051, 0.49494949],\n",
       "       [0.4950495 , 0.5049505 ],\n",
       "       [0.50505051, 0.49494949],\n",
       "       [0.4950495 , 0.5049505 ],\n",
       "       [0.50505051, 0.49494949],\n",
       "       [0.4950495 , 0.5049505 ],\n",
       "       [0.4950495 , 0.5049505 ],\n",
       "       [0.50505051, 0.49494949],\n",
       "       [0.50505051, 0.49494949],\n",
       "       [0.50505051, 0.49494949],\n",
       "       [0.50505051, 0.49494949],\n",
       "       [0.50505051, 0.49494949],\n",
       "       [0.50505051, 0.49494949],\n",
       "       [0.50505051, 0.49494949],\n",
       "       [0.50505051, 0.49494949],\n",
       "       [0.50505051, 0.49494949],\n",
       "       [0.50505051, 0.49494949],\n",
       "       [0.4950495 , 0.5049505 ],\n",
       "       [0.4950495 , 0.5049505 ],\n",
       "       [0.4950495 , 0.5049505 ],\n",
       "       [0.4950495 , 0.5049505 ],\n",
       "       [0.4950495 , 0.5049505 ],\n",
       "       [0.4950495 , 0.5049505 ],\n",
       "       [0.4950495 , 0.5049505 ],\n",
       "       [0.4950495 , 0.5049505 ]], dtype=float128)"
      ]
     },
     "execution_count": 16,
     "metadata": {},
     "output_type": "execute_result"
    }
   ],
   "source": [
    "hidden_state_probs = forward_backward(open_states, P, A, B)\n",
    "hidden_state_probs"
   ]
  },
  {
   "cell_type": "code",
   "execution_count": 17,
   "metadata": {},
   "outputs": [
    {
     "data": {
      "text/plain": [
       "array([1., 1., 1., 1., 1., 1., 1., 1., 1., 1., 1., 1., 1., 1., 1., 1., 1.,\n",
       "       1., 1., 1., 1., 1., 1., 1., 1., 1.], dtype=float128)"
      ]
     },
     "execution_count": 17,
     "metadata": {},
     "output_type": "execute_result"
    }
   ],
   "source": [
    "# сумма вероятностей скрытых состояний в каждый момент времени t равна 1\n",
    "hidden_state_probs.sum(axis=1)"
   ]
  },
  {
   "cell_type": "code",
   "execution_count": 18,
   "metadata": {},
   "outputs": [
    {
     "data": {
      "text/plain": [
       "[2, 1, 2, 1, 2, 1, 2, 2, 1, 1, 1, 1, 1, 1, 1, 1, 1, 1, 2, 2, 2, 2, 2, 2, 2, 2]"
      ]
     },
     "execution_count": 18,
     "metadata": {},
     "output_type": "execute_result"
    }
   ],
   "source": [
    "list(np.argmax(hidden_state_probs, axis=1) + 1)"
   ]
  }
 ],
 "metadata": {
  "kernelspec": {
   "display_name": "Python 3",
   "language": "python",
   "name": "python3"
  },
  "language_info": {
   "codemirror_mode": {
    "name": "ipython",
    "version": 3
   },
   "file_extension": ".py",
   "mimetype": "text/x-python",
   "name": "python",
   "nbconvert_exporter": "python",
   "pygments_lexer": "ipython3",
   "version": "3.8.6"
  }
 },
 "nbformat": 4,
 "nbformat_minor": 4
}
