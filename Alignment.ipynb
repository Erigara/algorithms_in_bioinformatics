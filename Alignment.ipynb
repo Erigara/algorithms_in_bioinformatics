{
 "cells": [
  {
   "cell_type": "code",
   "execution_count": 1,
   "metadata": {},
   "outputs": [],
   "source": [
    "from array import array\n",
    "from collections import deque"
   ]
  },
  {
   "cell_type": "markdown",
   "metadata": {},
   "source": [
    "Будем хранить матрицу весов как список пар.\n",
    "\n",
    "Матрица весов: \n",
    "\n",
    "$$\n",
    "W = \\begin{pmatrix}\n",
    "     & A & B & C & \\_ \\\\\n",
    "   A & 5 & -2 & -1 & -5 \\\\\n",
    "   B & -2 & 7 & -1 & -5 \\\\\n",
    "   C & -1 & -1 & 7 & -5 \\\\\n",
    "  \\_ & -5 & -5 & -5 & -5 \\\\\n",
    "\\end{pmatrix}\n",
    "$$"
   ]
  },
  {
   "cell_type": "code",
   "execution_count": 2,
   "metadata": {},
   "outputs": [],
   "source": [
    "gap = '_'\n",
    "gap_penalty = -5\n",
    "weight_matrix = {\n",
    "    ('A', gap):  gap_penalty,\n",
    "    ('A', 'A'):  5,\n",
    "    ('A', 'B'): -2,\n",
    "    ('A', 'C'): -1,\n",
    "    ('B', gap):  gap_penalty,\n",
    "    ('B', 'A'): -2,\n",
    "    ('B', 'B'):  7,\n",
    "    ('B', 'C'): -1,\n",
    "    ('C', gap):  gap_penalty,\n",
    "    ('C', 'A'): -1,\n",
    "    ('C', 'B'): -1,\n",
    "    ('C', 'C'):  7,\n",
    "    (gap, gap):  gap_penalty,\n",
    "    (gap, 'A'):  gap_penalty,\n",
    "    (gap, 'B'):  gap_penalty,\n",
    "    (gap, 'C'):  gap_penalty,\n",
    "}"
   ]
  },
  {
   "cell_type": "code",
   "execution_count": 8,
   "metadata": {},
   "outputs": [],
   "source": [
    "# вспомогательная функция для преобразования двумерного индекса к одномурному.\n",
    "def index2d_to_1d(i, j, n):\n",
    "    return n * i + j"
   ]
  },
  {
   "cell_type": "code",
   "execution_count": 4,
   "metadata": {},
   "outputs": [],
   "source": [
    "def alignment_weights(s, t, weight_matrix, gap='_'):\n",
    "    m = len(s)\n",
    "    n = len(t)\n",
    "    \n",
    "    C = array('h', [0]) * ((m + 1) * (n + 1))\n",
    "\n",
    "    for j in range(n + 1):\n",
    "        C[index2d_to_1d(0, j, n + 1)] += j * weight_matrix[(gap, gap)]\n",
    "        \n",
    "    for i in range(m + 1):\n",
    "        C[index2d_to_1d(i, 0, n + 1)] += i * weight_matrix[(gap, gap)]\n",
    "        \n",
    "    i = 1\n",
    "    while i <= m:\n",
    "        j = 1\n",
    "        while j <= n:\n",
    "            C[index2d_to_1d(i, j, n + 1)] = max(\n",
    "                C[index2d_to_1d(i - 1, j - 1, n + 1)] + weight_matrix[(s[i - 1], t[j - 1])],\n",
    "                C[(n + 1) * i + (j - 1)] + weight_matrix[(gap, t[j - 1])],\n",
    "                C[(n + 1) * (i - 1) + j] + weight_matrix[(s[i - 1], gap)]\n",
    "            )\n",
    "            j += 1\n",
    "        i += 1\n",
    "    return C\n",
    "\n",
    "def alignment(s, t, weight_matrix, gap='_'):\n",
    "    m = len(s)\n",
    "    n = len(t)\n",
    "    \n",
    "    C = alignment_weights(s, t, weight_matrix, gap)\n",
    "    \n",
    "    s_a, t_a = deque(), deque()\n",
    "    i, j = m, n\n",
    "    while i > 0 and j > 0:\n",
    "        if (C[index2d_to_1d(i - 1, j - 1, n + 1)] >= C[index2d_to_1d(i, j - 1, n + 1)] and\n",
    "            C[index2d_to_1d(i - 1, j - 1, n + 1)] >= C[index2d_to_1d(i - 1, j, n + 1)]):\n",
    "            s_a.appendleft(s[i - 1])\n",
    "            t_a.appendleft(t[j - 1])\n",
    "            i -= 1\n",
    "            j -= 1\n",
    "        elif C[index2d_to_1d(i, j - 1, n + 1)] > C[index2d_to_1d(i - 1, j, n + 1)]:\n",
    "            s_a.appendleft(gap)\n",
    "            t_a.appendleft(t[j - 1])\n",
    "            j -= 1\n",
    "        else:\n",
    "            s_a.appendleft(s[i - 1])\n",
    "            t_a.appendleft(gap)\n",
    "            i -= 1\n",
    "    \n",
    "    return ''.join(s_a), ''.join(t_a)"
   ]
  },
  {
   "cell_type": "code",
   "execution_count": 5,
   "metadata": {},
   "outputs": [
    {
     "data": {
      "text/plain": [
       "('ABC', 'AC_')"
      ]
     },
     "execution_count": 5,
     "metadata": {},
     "output_type": "execute_result"
    }
   ],
   "source": [
    "alignment('ABC', 'AC', weight_matrix, gap=gap)"
   ]
  },
  {
   "cell_type": "markdown",
   "metadata": {},
   "source": [
    "Увеличим штраф за мисметч B и С c -1 до -10.\n",
    "\n",
    "$$\n",
    "W' = \\begin{pmatrix}\n",
    "     & A & B & C & \\_ \\\\\n",
    "   A & 5 & -2 & -1 & -5 \\\\\n",
    "   B & -2 & 7 & \\Huge -10 & -5 \\\\\n",
    "   C & -1 & -1 & 7 & -5 \\\\\n",
    "  \\_ & -5 & -5 & -5 & -5 \\\\\n",
    "\\end{pmatrix}\n",
    "$$"
   ]
  },
  {
   "cell_type": "code",
   "execution_count": 6,
   "metadata": {},
   "outputs": [],
   "source": [
    "weight_matrix[('B', 'C')] = -10"
   ]
  },
  {
   "cell_type": "code",
   "execution_count": 7,
   "metadata": {},
   "outputs": [
    {
     "data": {
      "text/plain": [
       "('ABC', 'A_C')"
      ]
     },
     "execution_count": 7,
     "metadata": {},
     "output_type": "execute_result"
    }
   ],
   "source": [
    "alignment('ABC', 'AC', weight_matrix, gap=gap)"
   ]
  },
  {
   "cell_type": "markdown",
   "metadata": {},
   "source": [
    "Видно, что выравнивание изменилось. "
   ]
  }
 ],
 "metadata": {
  "kernelspec": {
   "display_name": "Python 3",
   "language": "python",
   "name": "python3"
  },
  "language_info": {
   "codemirror_mode": {
    "name": "ipython",
    "version": 3
   },
   "file_extension": ".py",
   "mimetype": "text/x-python",
   "name": "python",
   "nbconvert_exporter": "python",
   "pygments_lexer": "ipython3",
   "version": "3.8.5"
  }
 },
 "nbformat": 4,
 "nbformat_minor": 4
}
