{
 "cells": [
  {
   "cell_type": "code",
   "execution_count": 1,
   "metadata": {},
   "outputs": [],
   "source": [
    "import numpy as np"
   ]
  },
  {
   "cell_type": "code",
   "execution_count": 2,
   "metadata": {},
   "outputs": [],
   "source": [
    "def min_dist(dist_matrix):\n",
    "    n, m = dist_matrix.shape\n",
    "    min_dist = None\n",
    "    min_i = 0\n",
    "    min_j = 0\n",
    "    for i in range(n):\n",
    "        for j in range(i + 1, m):\n",
    "            dist = dist_matrix[i, j]\n",
    "            if dist > 0 and (min_dist is None or dist < min_dist):\n",
    "                min_dist = dist\n",
    "                min_i = i\n",
    "                min_j = j\n",
    "    return min_dist, min_i, min_j"
   ]
  },
  {
   "cell_type": "code",
   "execution_count": 3,
   "metadata": {},
   "outputs": [],
   "source": [
    "def recalculate_distances_weighted(dist_matrix, i, j):\n",
    "    dist_matrix = dist_matrix.copy()\n",
    "    distances_row = (dist_matrix[i, :] + dist_matrix[j, :])/2\n",
    "    distances_col = (dist_matrix[:, i] + dist_matrix[:, j])/2\n",
    "    dist_matrix[i, :] = distances_row\n",
    "    dist_matrix[:, i] = distances_col\n",
    "    dist_matrix[j, :] *= 0 \n",
    "    dist_matrix[:, j] *= 0\n",
    "    dist_matrix[i, i] *= 0\n",
    "    \n",
    "    return dist_matrix"
   ]
  },
  {
   "cell_type": "code",
   "execution_count": 4,
   "metadata": {},
   "outputs": [],
   "source": [
    "def recalculate_distances_unweighted(dist_matrix, i, j, size_i, size_j):\n",
    "    dist_matrix = dist_matrix.copy()\n",
    "    distances_row = (size_i * dist_matrix[i, :] + size_j * dist_matrix[j, :]) / (size_i + size_j)\n",
    "    distances_col = (size_i * dist_matrix[:, i] + size_j * dist_matrix[:, j]) / (size_i + size_j)\n",
    "    dist_matrix[i, :] = distances_row\n",
    "    dist_matrix[:, i] = distances_col\n",
    "    dist_matrix[j, :] *= 0 \n",
    "    dist_matrix[:, j] *= 0\n",
    "    dist_matrix[i, i] *= 0\n",
    "    \n",
    "    return dist_matrix"
   ]
  },
  {
   "cell_type": "code",
   "execution_count": 5,
   "metadata": {},
   "outputs": [],
   "source": [
    "def update_sizes(sizes, i, j):\n",
    "    sizes = sizes.copy()\n",
    "    sizes[i] += sizes[j]\n",
    "    sizes[j] = 0\n",
    "    return sizes"
   ]
  },
  {
   "cell_type": "code",
   "execution_count": 6,
   "metadata": {},
   "outputs": [],
   "source": [
    "def merge_subtrees(trees, i, j, length):\n",
    "    trees = trees.copy()\n",
    "    childl = trees[i]\n",
    "    childr = trees[j]\n",
    "    trees[i] = (childl, childr, length)\n",
    "    trees[j] = 0\n",
    "    return trees"
   ]
  },
  {
   "cell_type": "code",
   "execution_count": 7,
   "metadata": {},
   "outputs": [],
   "source": [
    "def deduce_lengths(tree, length):\n",
    "    if isinstance(tree, tuple):\n",
    "        childl, childr, tree_length = tree\n",
    "        childl = deduce_lengths(childl, tree_length)\n",
    "        childr = deduce_lengths(childr, tree_length)\n",
    "        return (childl, childr, length - tree_length)\n",
    "    else:\n",
    "        return (tree, length)"
   ]
  },
  {
   "cell_type": "code",
   "execution_count": 8,
   "metadata": {},
   "outputs": [],
   "source": [
    "def to_newick(tree):\n",
    "    def recurse(tree):\n",
    "        if len(tree) > 2:\n",
    "            childl, childr, tree_length = tree\n",
    "            childl = recurse(childl)\n",
    "            childr = recurse(childr)\n",
    "            return f\"({childl},{childr}):{tree_length :.2f}\"\n",
    "        else:\n",
    "            node, node_length = tree\n",
    "            return f\"{node}:{node_length}\"\n",
    "        \n",
    "    childl, childr, tree_length = tree\n",
    "    childl = recurse(childl)\n",
    "    childr = recurse(childr)\n",
    "    return f\"({childl},{childr})\""
   ]
  },
  {
   "cell_type": "code",
   "execution_count": 9,
   "metadata": {},
   "outputs": [],
   "source": [
    "def wpgma(trees, dist_matrix):\n",
    "    steps = len(trees) - 1\n",
    "    while steps > 0:\n",
    "        dist, i, j = min_dist(dist_matrix)\n",
    "        dist_matrix = recalculate_distances_weighted(dist_matrix, i, j)\n",
    "        trees = merge_subtrees(trees, i, j, dist / 2)\n",
    "        steps -= 1\n",
    "    tree = trees[i]\n",
    "    deduced_tree = deduce_lengths(tree, tree[-1])\n",
    "    return deduced_tree"
   ]
  },
  {
   "cell_type": "code",
   "execution_count": 10,
   "metadata": {},
   "outputs": [],
   "source": [
    "def upgma(trees, dist_matrix):\n",
    "    steps = len(trees) -1\n",
    "    sizes = [1] * len(trees)\n",
    "    while steps > 0:\n",
    "        dist, i, j = min_dist(dist_matrix)\n",
    "        dist_matrix = recalculate_distances_unweighted(dist_matrix, i, j, sizes[i], sizes[j])\n",
    "        trees = merge_subtrees(trees, i, j, dist / 2)\n",
    "        sizes = update_sizes(sizes, i, j)\n",
    "        steps -= 1\n",
    "    tree = trees[i]\n",
    "    deduced_tree = deduce_lengths(tree, tree[-1])\n",
    "    return deduced_tree"
   ]
  },
  {
   "cell_type": "markdown",
   "metadata": {},
   "source": [
    "# Тестовые данные"
   ]
  },
  {
   "cell_type": "code",
   "execution_count": 11,
   "metadata": {},
   "outputs": [],
   "source": [
    "test_1_trees = ['A', 'B', 'C', 'D']\n",
    "test_1_dist = np.array([[0, 16, 16, 10],\n",
    "                        [16, 0,  8,  8],\n",
    "                        [16, 8, 0,   4],\n",
    "                        [10, 8, 4,   0]\n",
    "                    ], dtype=np.float64)"
   ]
  },
  {
   "cell_type": "code",
   "execution_count": 12,
   "metadata": {},
   "outputs": [],
   "source": [
    "test_2_trees = ['A', 'B', 'C', 'D', 'E', 'F']\n",
    "test_2_dist = np.array([[0, 5,  4, 7, 6,  8],\n",
    "                        [5, 0,  7, 9, 10, 11],\n",
    "                        [4, 7,  0, 7, 6,  8],\n",
    "                        [7, 9,  7, 0, 5,  9],\n",
    "                        [6, 10, 6, 5, 0,  8],\n",
    "                        [8, 11, 8, 9, 8,  0]\n",
    "                       ], dtype=np.float64)"
   ]
  },
  {
   "cell_type": "markdown",
   "metadata": {},
   "source": [
    "# Проверка WPGMA"
   ]
  },
  {
   "cell_type": "markdown",
   "metadata": {},
   "source": [
    "## Тест 1"
   ]
  },
  {
   "cell_type": "code",
   "execution_count": 13,
   "metadata": {},
   "outputs": [
    {
     "data": {
      "text/plain": [
       "'(A:7.25,(B:4.0,(C:2.0,D:2.0):2.00):3.25)'"
      ]
     },
     "execution_count": 13,
     "metadata": {},
     "output_type": "execute_result"
    }
   ],
   "source": [
    "to_newick(wpgma(test_1_trees, test_1_dist))"
   ]
  },
  {
   "cell_type": "markdown",
   "metadata": {},
   "source": [
    "## Тест 2"
   ]
  },
  {
   "cell_type": "code",
   "execution_count": 14,
   "metadata": {
    "scrolled": true
   },
   "outputs": [
    {
     "data": {
      "text/plain": [
       "'((((A:2.0,C:2.0):1.00,B:3.0):1.00,(D:2.5,E:2.5):1.50):0.50,F:4.5)'"
      ]
     },
     "execution_count": 14,
     "metadata": {},
     "output_type": "execute_result"
    }
   ],
   "source": [
    "to_newick(wpgma(test_2_trees, test_2_dist))"
   ]
  },
  {
   "cell_type": "markdown",
   "metadata": {},
   "source": [
    "# Тест UPGMA"
   ]
  },
  {
   "cell_type": "markdown",
   "metadata": {},
   "source": [
    "## Тест 1"
   ]
  },
  {
   "cell_type": "code",
   "execution_count": 15,
   "metadata": {},
   "outputs": [
    {
     "data": {
      "text/plain": [
       "'(A:7.0,(B:4.0,(C:2.0,D:2.0):2.00):3.00)'"
      ]
     },
     "execution_count": 15,
     "metadata": {},
     "output_type": "execute_result"
    }
   ],
   "source": [
    "to_newick(upgma(test_1_trees, test_1_dist))"
   ]
  },
  {
   "cell_type": "markdown",
   "metadata": {},
   "source": [
    "## Тест 2"
   ]
  },
  {
   "cell_type": "code",
   "execution_count": 16,
   "metadata": {},
   "outputs": [
    {
     "data": {
      "text/plain": [
       "'((((A:2.0,C:2.0):1.00,B:3.0):0.75,(D:2.5,E:2.5):1.25):0.65,F:4.4)'"
      ]
     },
     "execution_count": 16,
     "metadata": {},
     "output_type": "execute_result"
    }
   ],
   "source": [
    "to_newick(upgma(test_2_trees, test_2_dist))"
   ]
  }
 ],
 "metadata": {
  "kernelspec": {
   "display_name": "Python 3",
   "language": "python",
   "name": "python3"
  },
  "language_info": {
   "codemirror_mode": {
    "name": "ipython",
    "version": 3
   },
   "file_extension": ".py",
   "mimetype": "text/x-python",
   "name": "python",
   "nbconvert_exporter": "python",
   "pygments_lexer": "ipython3",
   "version": "3.8.6"
  }
 },
 "nbformat": 4,
 "nbformat_minor": 4
}
